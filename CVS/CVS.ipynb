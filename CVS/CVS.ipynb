{
 "cells": [
  {
   "cell_type": "code",
   "execution_count": 39,
   "id": "f908f214",
   "metadata": {},
   "outputs": [],
   "source": [
    "with open('test.txt') as f:\n",
    "    lines = f.readlines()"
   ]
  },
  {
   "cell_type": "code",
   "execution_count": 40,
   "id": "3411a524",
   "metadata": {},
   "outputs": [
    {
     "data": {
      "text/plain": [
       "['hello\\n',\n",
       " 'how are you? \\\\\\n',\n",
       " 'i am good\\n',\n",
       " 'What is your name?\\\\\\n',\n",
       " 'My name is Mike\\n',\n",
       " 'I love \\\\ character']"
      ]
     },
     "execution_count": 40,
     "metadata": {},
     "output_type": "execute_result"
    }
   ],
   "source": [
    "lines"
   ]
  },
  {
   "cell_type": "code",
   "execution_count": 43,
   "id": "4d6b54b8",
   "metadata": {},
   "outputs": [],
   "source": [
    "def replace_newLine(lst):\n",
    "    new_list = []\n",
    "    for a in lines:\n",
    "        b = a.replace('\\n', '')\n",
    "        new_list.append(b)\n",
    "    return new_list    "
   ]
  },
  {
   "cell_type": "code",
   "execution_count": 48,
   "id": "64333b3b",
   "metadata": {},
   "outputs": [],
   "source": [
    "def replace_func(lst):\n",
    "    med_list = replace_newLine(lst)\n",
    "    clean_list = []\n",
    "    for a in med_list:\n",
    "        if a[-1] == '\\\\':\n",
    "            b = a.replace('\\\\', '')\n",
    "            clean_list.append(b)   \n",
    "        else:\n",
    "            clean_list.append(a)\n",
    "            \n",
    "    clean_list = ' '.join(clean_list)       \n",
    "    return clean_list        "
   ]
  },
  {
   "cell_type": "code",
   "execution_count": 49,
   "id": "02ba037c",
   "metadata": {},
   "outputs": [
    {
     "data": {
      "text/plain": [
       "'hello how are you?  i am good What is your name? My name is Mike I love \\\\ character'"
      ]
     },
     "execution_count": 49,
     "metadata": {},
     "output_type": "execute_result"
    }
   ],
   "source": [
    "replace_func(lines)"
   ]
  }
 ],
 "metadata": {
  "kernelspec": {
   "display_name": "data_engg",
   "language": "python",
   "name": "data_engg"
  },
  "language_info": {
   "codemirror_mode": {
    "name": "ipython",
    "version": 3
   },
   "file_extension": ".py",
   "mimetype": "text/x-python",
   "name": "python",
   "nbconvert_exporter": "python",
   "pygments_lexer": "ipython3",
   "version": "3.8.5"
  }
 },
 "nbformat": 4,
 "nbformat_minor": 5
}
